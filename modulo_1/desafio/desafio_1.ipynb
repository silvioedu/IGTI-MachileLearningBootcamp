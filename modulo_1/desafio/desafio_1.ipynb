{
  "nbformat": 4,
  "nbformat_minor": 0,
  "metadata": {
    "colab": {
      "name": "desafio-1.ipynb",
      "provenance": [],
      "toc_visible": true
    },
    "kernelspec": {
      "name": "python3",
      "display_name": "Python 3"
    }
  },
  "cells": [
    {
      "cell_type": "markdown",
      "metadata": {
        "id": "nxO27trHHASr"
      },
      "source": [
        "**Arquivo de entrada disponível em:** https://github.com/silvioedu/IGTI-MachileLearningBootcamp/blob/main/modulo_1/desafio/comp_bikes_mod.csv"
      ]
    },
    {
      "cell_type": "markdown",
      "metadata": {
        "id": "2MQG3f0rHNG0"
      },
      "source": [
        "# Configurações"
      ]
    },
    {
      "cell_type": "code",
      "metadata": {
        "id": "JuThEMMZHM44"
      },
      "source": [
        "import pandas as pd\n",
        "import numpy as np\n",
        "import seaborn as sns\n",
        "import matplotlib.pyplot as plt\n",
        "import warnings\n",
        "\n",
        "from sklearn.tree import DecisionTreeRegressor\n",
        "from sklearn.linear_model import LinearRegression\n",
        "from sklearn.svm import SVR\n",
        "from sklearn.metrics import r2_score\n",
        "\n",
        "warnings.filterwarnings('ignore')\n",
        "sns.set()"
      ],
      "execution_count": 83,
      "outputs": []
    },
    {
      "cell_type": "code",
      "metadata": {
        "id": "Cpdrqnz5G0sg"
      },
      "source": [
        "filename = 'input/comp_bikes_mod.csv'\n",
        "df = pd.read_csv(filename)"
      ],
      "execution_count": 84,
      "outputs": []
    },
    {
      "cell_type": "code",
      "metadata": {
        "id": "rXBnjEg5I38L"
      },
      "source": [
        "def plot_feature(df, feature):\n",
        "  \"\"\" Plotar boxplot e distplot\n",
        "  ----------------------------\n",
        "  df     : dataframe\n",
        "  feature: variável disponível\n",
        "  \"\"\"  \n",
        "  fig, axes = plt.subplots(1,2, figsize=(18,5))\n",
        "  plt.suptitle(f\"Feature '{feature}'\")\n",
        "\n",
        "  sns.boxplot(df[feature],ax = axes[0])\n",
        "  sns.distplot(df[feature], kde=False, ax = axes[1])\n",
        "  plt.xlabel(\"\")\n",
        "\n",
        "def numeric_feature(df):\n",
        "  \"\"\" Retornar as features numericas para analise\n",
        "  ----------------------------\n",
        "  df     : dataframe\n",
        "  \"\"\"  \n",
        "  return [i for i in df.columns if not i.endswith(\"_id\") and np.dtype(df[i]) in ('int64', 'float64')]"
      ],
      "execution_count": 85,
      "outputs": []
    },
    {
      "cell_type": "markdown",
      "metadata": {
        "id": "dxXfFdJnIObX"
      },
      "source": [
        "# Análise exploratória"
      ]
    },
    {
      "cell_type": "markdown",
      "metadata": {
        "id": "cqrRnAZmIQuX"
      },
      "source": [
        "## Geral"
      ]
    },
    {
      "cell_type": "code",
      "metadata": {
        "id": "ciosSltGIOKo",
        "outputId": "02c33b88-74a0-4555-ef14-8b801f151067",
        "colab": {
          "base_uri": "https://localhost:8080/"
        }
      },
      "source": [
        "# quantas observações e variáeis estão disponíveis\n",
        "df.shape"
      ],
      "execution_count": 86,
      "outputs": [
        {
          "output_type": "execute_result",
          "data": {
            "text/plain": [
              "(17379, 17)"
            ]
          },
          "metadata": {
            "tags": []
          },
          "execution_count": 86
        }
      ]
    },
    {
      "cell_type": "code",
      "metadata": {
        "id": "Du_LKdBHIZIP",
        "outputId": "48afe5ad-7a9b-470e-c23f-ca2594a5957e",
        "colab": {
          "base_uri": "https://localhost:8080/"
        }
      },
      "source": [
        "# como estão distribuídas as variáveis?\n",
        "df.info()"
      ],
      "execution_count": 87,
      "outputs": [
        {
          "output_type": "stream",
          "text": [
            "<class 'pandas.core.frame.DataFrame'>\n",
            "RangeIndex: 17379 entries, 0 to 17378\n",
            "Data columns (total 17 columns):\n",
            " #   Column      Non-Null Count  Dtype  \n",
            "---  ------      --------------  -----  \n",
            " 0   instant     15641 non-null  float64\n",
            " 1   dteday      15641 non-null  object \n",
            " 2   season      15641 non-null  float64\n",
            " 3   yr          15641 non-null  float64\n",
            " 4   mnth        15641 non-null  float64\n",
            " 5   hr          15641 non-null  float64\n",
            " 6   holiday     15641 non-null  float64\n",
            " 7   weekday     15641 non-null  float64\n",
            " 8   workingday  15641 non-null  float64\n",
            " 9   weathersit  15641 non-null  float64\n",
            " 10  temp        15641 non-null  float64\n",
            " 11  atemp       15641 non-null  float64\n",
            " 12  hum         15641 non-null  float64\n",
            " 13  windspeed   15641 non-null  float64\n",
            " 14  casual      15641 non-null  float64\n",
            " 15  registered  15641 non-null  float64\n",
            " 16  cnt         15641 non-null  float64\n",
            "dtypes: float64(16), object(1)\n",
            "memory usage: 2.3+ MB\n"
          ],
          "name": "stdout"
        }
      ]
    },
    {
      "cell_type": "code",
      "metadata": {
        "id": "jzJvTAfVIXV8",
        "outputId": "2792e3b0-624f-4849-df85-e11a04d44067",
        "colab": {
          "base_uri": "https://localhost:8080/",
          "height": 195
        }
      },
      "source": [
        "# visualizando as primeiras linhas\n",
        "df.head()"
      ],
      "execution_count": 88,
      "outputs": [
        {
          "output_type": "execute_result",
          "data": {
            "text/html": [
              "<div>\n",
              "<style scoped>\n",
              "    .dataframe tbody tr th:only-of-type {\n",
              "        vertical-align: middle;\n",
              "    }\n",
              "\n",
              "    .dataframe tbody tr th {\n",
              "        vertical-align: top;\n",
              "    }\n",
              "\n",
              "    .dataframe thead th {\n",
              "        text-align: right;\n",
              "    }\n",
              "</style>\n",
              "<table border=\"1\" class=\"dataframe\">\n",
              "  <thead>\n",
              "    <tr style=\"text-align: right;\">\n",
              "      <th></th>\n",
              "      <th>instant</th>\n",
              "      <th>dteday</th>\n",
              "      <th>season</th>\n",
              "      <th>yr</th>\n",
              "      <th>mnth</th>\n",
              "      <th>hr</th>\n",
              "      <th>holiday</th>\n",
              "      <th>weekday</th>\n",
              "      <th>workingday</th>\n",
              "      <th>weathersit</th>\n",
              "      <th>temp</th>\n",
              "      <th>atemp</th>\n",
              "      <th>hum</th>\n",
              "      <th>windspeed</th>\n",
              "      <th>casual</th>\n",
              "      <th>registered</th>\n",
              "      <th>cnt</th>\n",
              "    </tr>\n",
              "  </thead>\n",
              "  <tbody>\n",
              "    <tr>\n",
              "      <th>0</th>\n",
              "      <td>1.0</td>\n",
              "      <td>NaN</td>\n",
              "      <td>1.0</td>\n",
              "      <td>0.0</td>\n",
              "      <td>1.0</td>\n",
              "      <td>0.0</td>\n",
              "      <td>0.0</td>\n",
              "      <td>6.0</td>\n",
              "      <td>0.0</td>\n",
              "      <td>1.0</td>\n",
              "      <td>NaN</td>\n",
              "      <td>0.2879</td>\n",
              "      <td>0.81</td>\n",
              "      <td>0.0</td>\n",
              "      <td>3.0</td>\n",
              "      <td>13.0</td>\n",
              "      <td>16.0</td>\n",
              "    </tr>\n",
              "    <tr>\n",
              "      <th>1</th>\n",
              "      <td>2.0</td>\n",
              "      <td>2011-01-01</td>\n",
              "      <td>1.0</td>\n",
              "      <td>0.0</td>\n",
              "      <td>1.0</td>\n",
              "      <td>1.0</td>\n",
              "      <td>0.0</td>\n",
              "      <td>6.0</td>\n",
              "      <td>0.0</td>\n",
              "      <td>NaN</td>\n",
              "      <td>0.22</td>\n",
              "      <td>0.2727</td>\n",
              "      <td>0.80</td>\n",
              "      <td>0.0</td>\n",
              "      <td>8.0</td>\n",
              "      <td>32.0</td>\n",
              "      <td>40.0</td>\n",
              "    </tr>\n",
              "    <tr>\n",
              "      <th>2</th>\n",
              "      <td>3.0</td>\n",
              "      <td>2011-01-01</td>\n",
              "      <td>1.0</td>\n",
              "      <td>0.0</td>\n",
              "      <td>1.0</td>\n",
              "      <td>2.0</td>\n",
              "      <td>0.0</td>\n",
              "      <td>6.0</td>\n",
              "      <td>0.0</td>\n",
              "      <td>1.0</td>\n",
              "      <td>0.22</td>\n",
              "      <td>0.2727</td>\n",
              "      <td>0.80</td>\n",
              "      <td>0.0</td>\n",
              "      <td>5.0</td>\n",
              "      <td>27.0</td>\n",
              "      <td>32.0</td>\n",
              "    </tr>\n",
              "    <tr>\n",
              "      <th>3</th>\n",
              "      <td>4.0</td>\n",
              "      <td>2011-01-01</td>\n",
              "      <td>1.0</td>\n",
              "      <td>0.0</td>\n",
              "      <td>1.0</td>\n",
              "      <td>3.0</td>\n",
              "      <td>0.0</td>\n",
              "      <td>6.0</td>\n",
              "      <td>0.0</td>\n",
              "      <td>1.0</td>\n",
              "      <td>0.24</td>\n",
              "      <td>0.2879</td>\n",
              "      <td>0.75</td>\n",
              "      <td>0.0</td>\n",
              "      <td>3.0</td>\n",
              "      <td>10.0</td>\n",
              "      <td>13.0</td>\n",
              "    </tr>\n",
              "    <tr>\n",
              "      <th>4</th>\n",
              "      <td>5.0</td>\n",
              "      <td>2011-01-01</td>\n",
              "      <td>1.0</td>\n",
              "      <td>0.0</td>\n",
              "      <td>1.0</td>\n",
              "      <td>4.0</td>\n",
              "      <td>0.0</td>\n",
              "      <td>6.0</td>\n",
              "      <td>NaN</td>\n",
              "      <td>1.0</td>\n",
              "      <td>0.24</td>\n",
              "      <td>0.2879</td>\n",
              "      <td>0.75</td>\n",
              "      <td>0.0</td>\n",
              "      <td>0.0</td>\n",
              "      <td>1.0</td>\n",
              "      <td>1.0</td>\n",
              "    </tr>\n",
              "  </tbody>\n",
              "</table>\n",
              "</div>"
            ],
            "text/plain": [
              "   instant      dteday  season   yr  ...  windspeed  casual  registered   cnt\n",
              "0      1.0         NaN     1.0  0.0  ...        0.0     3.0        13.0  16.0\n",
              "1      2.0  2011-01-01     1.0  0.0  ...        0.0     8.0        32.0  40.0\n",
              "2      3.0  2011-01-01     1.0  0.0  ...        0.0     5.0        27.0  32.0\n",
              "3      4.0  2011-01-01     1.0  0.0  ...        0.0     3.0        10.0  13.0\n",
              "4      5.0  2011-01-01     1.0  0.0  ...        0.0     0.0         1.0   1.0\n",
              "\n",
              "[5 rows x 17 columns]"
            ]
          },
          "metadata": {
            "tags": []
          },
          "execution_count": 88
        }
      ]
    },
    {
      "cell_type": "code",
      "metadata": {
        "id": "oK1OExyPIjxJ",
        "outputId": "3b5c0600-fdf1-4434-eb65-0a1fb9e59ed4",
        "colab": {
          "base_uri": "https://localhost:8080/"
        }
      },
      "source": [
        "# visualizando valores nuloes\n",
        "df.isnull().sum()"
      ],
      "execution_count": 89,
      "outputs": [
        {
          "output_type": "execute_result",
          "data": {
            "text/plain": [
              "instant       1738\n",
              "dteday        1738\n",
              "season        1738\n",
              "yr            1738\n",
              "mnth          1738\n",
              "hr            1738\n",
              "holiday       1738\n",
              "weekday       1738\n",
              "workingday    1738\n",
              "weathersit    1738\n",
              "temp          1738\n",
              "atemp         1738\n",
              "hum           1738\n",
              "windspeed     1738\n",
              "casual        1738\n",
              "registered    1738\n",
              "cnt           1738\n",
              "dtype: int64"
            ]
          },
          "metadata": {
            "tags": []
          },
          "execution_count": 89
        }
      ]
    },
    {
      "cell_type": "markdown",
      "metadata": {
        "id": "GHjWKDAsIxRr"
      },
      "source": [
        "## Por feature"
      ]
    },
    {
      "cell_type": "code",
      "metadata": {
        "id": "MFIWNZ_TIrle",
        "outputId": "311e96cd-7cdc-4bc2-d44c-d5785941358b",
        "colab": {
          "base_uri": "https://localhost:8080/"
        }
      },
      "source": [
        "num_ftr = numeric_feature(df)\n",
        "print(f'Features numéricas {num_ftr}')"
      ],
      "execution_count": 90,
      "outputs": [
        {
          "output_type": "stream",
          "text": [
            "Features numéricas ['instant', 'season', 'yr', 'mnth', 'hr', 'holiday', 'weekday', 'workingday', 'weathersit', 'temp', 'atemp', 'hum', 'windspeed', 'casual', 'registered', 'cnt']\n"
          ],
          "name": "stdout"
        }
      ]
    },
    {
      "cell_type": "code",
      "metadata": {
        "id": "_eybWSujJIAx",
        "outputId": "fbb0cb77-6ed1-4d0f-c3d6-27fc7af21e15",
        "colab": {
          "base_uri": "https://localhost:8080/",
          "height": 375
        }
      },
      "source": [
        "plot_feature(df, num_ftr[0])"
      ],
      "execution_count": 91,
      "outputs": [
        {
          "output_type": "display_data",
          "data": {
            "image/png": "[encoded data removed]",
            "text/plain": [
              "<Figure size 1296x360 with 2 Axes>"
            ]
          },
          "metadata": {
            "tags": []
          }
        }
      ]
    },
    {
      "cell_type": "code",
      "metadata": {
        "id": "jskA0omWJQHN",
        "outputId": "4325e056-c5f4-4cdb-b887-2ba68df77f76",
        "colab": {
          "base_uri": "https://localhost:8080/",
          "height": 375
        }
      },
      "source": [
        "plot_feature(df, num_ftr[8])"
      ],
      "execution_count": 92,
      "outputs": [
        {
          "output_type": "display_data",
          "data": {
            "image/png": "[encoded data removed]",
            "text/plain": [
              "<Figure size 1296x360 with 2 Axes>"
            ]
          },
          "metadata": {
            "tags": []
          }
        }
      ]
    },
    {
      "cell_type": "code",
      "metadata": {
        "id": "piD2uz3uJdRT",
        "outputId": "f5e782b8-8daa-4803-a49f-f550dcb1b1d0",
        "colab": {
          "base_uri": "https://localhost:8080/",
          "height": 375
        }
      },
      "source": [
        "plot_feature(df, num_ftr[9])"
      ],
      "execution_count": 93,
      "outputs": [
        {
          "output_type": "display_data",
          "data": {
            "image/png": "[encoded data removed]",
            "text/plain": [
              "<Figure size 1296x360 with 2 Axes>"
            ]
          },
          "metadata": {
            "tags": []
          }
        }
      ]
    },
    {
      "cell_type": "code",
      "metadata": {
        "id": "TBo_m_WZJgc1",
        "outputId": "faaf9e29-ed8f-4992-f868-43f66b8e40e4",
        "colab": {
          "base_uri": "https://localhost:8080/",
          "height": 375
        }
      },
      "source": [
        "plot_feature(df, num_ftr[10])"
      ],
      "execution_count": 94,
      "outputs": [
        {
          "output_type": "display_data",
          "data": {
            "image/png": "[encoded data removed]",
            "text/plain": [
              "<Figure size 1296x360 with 2 Axes>"
            ]
          },
          "metadata": {
            "tags": []
          }
        }
      ]
    },
    {
      "cell_type": "code",
      "metadata": {
        "id": "LVEa7X44Ji-9",
        "outputId": "3661b765-9d51-4ee1-eb24-456a8ad1f509",
        "colab": {
          "base_uri": "https://localhost:8080/",
          "height": 375
        }
      },
      "source": [
        "plot_feature(df, num_ftr[11])"
      ],
      "execution_count": 95,
      "outputs": [
        {
          "output_type": "display_data",
          "data": {
            "image/png": "[encoded data removed]",
            "text/plain": [
              "<Figure size 1296x360 with 2 Axes>"
            ]
          },
          "metadata": {
            "tags": []
          }
        }
      ]
    },
    {
      "cell_type": "code",
      "metadata": {
        "id": "KCHB9V_gJk9z",
        "outputId": "dd9bdf38-2a9a-4222-fc98-8e81009f7c6f",
        "colab": {
          "base_uri": "https://localhost:8080/",
          "height": 375
        }
      },
      "source": [
        "plot_feature(df, num_ftr[12])"
      ],
      "execution_count": 96,
      "outputs": [
        {
          "output_type": "display_data",
          "data": {
            "image/png": "[encoded data removed]",
            "text/plain": [
              "<Figure size 1296x360 with 2 Axes>"
            ]
          },
          "metadata": {
            "tags": []
          }
        }
      ]
    },
    {
      "cell_type": "markdown",
      "metadata": {
        "id": "34zDGS2nJ3dW"
      },
      "source": [
        "## Relacionamento entre features"
      ]
    },
    {
      "cell_type": "code",
      "metadata": {
        "id": "OIcqYNvgJo57",
        "outputId": "906b8ac4-fe86-44a5-ff9f-95406f85e29b",
        "colab": {
          "base_uri": "https://localhost:8080/",
          "height": 506
        }
      },
      "source": [
        "plt.figure(figsize=(18,8))\n",
        "sns.heatmap(df[['season', 'temp', 'atemp', 'hum', 'windspeed', 'cnt']].corr(), annot=True, cmap=\"YlGnBu\")"
      ],
      "execution_count": 97,
      "outputs": [
        {
          "output_type": "execute_result",
          "data": {
            "text/plain": [
              "<matplotlib.axes._subplots.AxesSubplot at 0x7f455a105e10>"
            ]
          },
          "metadata": {
            "tags": []
          },
          "execution_count": 97
        },
        {
          "output_type": "display_data",
          "data": {
            "image/png": "[encoded data removed]",
            "text/plain": [
              "<Figure size 1296x576 with 2 Axes>"
            ]
          },
          "metadata": {
            "tags": []
          }
        }
      ]
    },
    {
      "cell_type": "markdown",
      "metadata": {
        "id": "ofzlIF2cK_Xv"
      },
      "source": [
        "# Pré-processamento"
      ]
    },
    {
      "cell_type": "markdown",
      "metadata": {
        "id": "KiLlOqA4OVyn"
      },
      "source": [
        "dteday"
      ]
    },
    {
      "cell_type": "code",
      "metadata": {
        "id": "7GFSObLoLDCi",
        "outputId": "7dfe24ed-a945-424c-a374-59e8888b0f11",
        "colab": {
          "base_uri": "https://localhost:8080/"
        }
      },
      "source": [
        "df.dropna(subset=['dteday'], inplace=True)\n",
        "df.dteday.isnull().sum()"
      ],
      "execution_count": 98,
      "outputs": [
        {
          "output_type": "execute_result",
          "data": {
            "text/plain": [
              "0"
            ]
          },
          "metadata": {
            "tags": []
          },
          "execution_count": 98
        }
      ]
    },
    {
      "cell_type": "code",
      "metadata": {
        "id": "a9nR7FZsLRx8"
      },
      "source": [
        "df.dteday = pd.to_datetime(df.dteday)"
      ],
      "execution_count": 99,
      "outputs": []
    },
    {
      "cell_type": "markdown",
      "metadata": {
        "id": "cFmFe5urOXq1"
      },
      "source": [
        "season"
      ]
    },
    {
      "cell_type": "code",
      "metadata": {
        "id": "GU6rLTbvORkJ",
        "outputId": "20eecb10-d7c9-4654-c54e-94c5a0db97b7",
        "colab": {
          "base_uri": "https://localhost:8080/"
        }
      },
      "source": [
        "df.season = df.season.astype('category')\n",
        "df.season.dtypes"
      ],
      "execution_count": 100,
      "outputs": [
        {
          "output_type": "execute_result",
          "data": {
            "text/plain": [
              "CategoricalDtype(categories=[1.0, 2.0, 3.0, 4.0], ordered=False)"
            ]
          },
          "metadata": {
            "tags": []
          },
          "execution_count": 100
        }
      ]
    },
    {
      "cell_type": "markdown",
      "metadata": {
        "id": "arCIpBQ5Li7X"
      },
      "source": [
        "# Preparando modelos e realizando previsões"
      ]
    },
    {
      "cell_type": "code",
      "metadata": {
        "id": "MC2ZXC1FLt63",
        "outputId": "3b12f6a5-2daa-40c2-f010-1546c8165702",
        "colab": {
          "base_uri": "https://localhost:8080/"
        }
      },
      "source": [
        "df_train = df[['hum','casual','cnt']]\n",
        "df_train.hum.fillna(df_train.hum.mean(), inplace=True)\n",
        "df_train.casual.fillna(df_train.casual.mean(), inplace=True)\n",
        "df_train.cnt.fillna(df_train.cnt.mean(), inplace=True)\n",
        "df_train.isnull().sum()"
      ],
      "execution_count": 101,
      "outputs": [
        {
          "output_type": "execute_result",
          "data": {
            "text/plain": [
              "hum       0\n",
              "casual    0\n",
              "cnt       0\n",
              "dtype: int64"
            ]
          },
          "metadata": {
            "tags": []
          },
          "execution_count": 101
        }
      ]
    },
    {
      "cell_type": "code",
      "metadata": {
        "id": "x0Bhj1_PMf3B"
      },
      "source": [
        "x = df_train[['hum', 'casual']]\n",
        "Y = df_train['cnt']"
      ],
      "execution_count": 102,
      "outputs": []
    },
    {
      "cell_type": "markdown",
      "metadata": {
        "id": "ONdPbbfrLnEJ"
      },
      "source": [
        "## Linear Regression"
      ]
    },
    {
      "cell_type": "code",
      "metadata": {
        "id": "w0YIFCXgLqXg",
        "outputId": "d658f1c4-d4e8-4946-dfc1-5abb54beed89",
        "colab": {
          "base_uri": "https://localhost:8080/"
        }
      },
      "source": [
        "lr = LinearRegression()\n",
        "lr.fit(x, Y)\n",
        "y_pred = lr.predict(x)\n",
        "print(f'Score R2: {np.round(r2_score(Y, y_pred),5)}')"
      ],
      "execution_count": 103,
      "outputs": [
        {
          "output_type": "stream",
          "text": [
            "Score R2: 0.40599\n"
          ],
          "name": "stdout"
        }
      ]
    },
    {
      "cell_type": "markdown",
      "metadata": {
        "id": "8h1PqaWZNbJN"
      },
      "source": [
        "## Decision Tree Regressor"
      ]
    },
    {
      "cell_type": "code",
      "metadata": {
        "id": "YDoj4KbSNfOi",
        "outputId": "60e54a2a-1c38-464b-ddf3-187cb9125d23",
        "colab": {
          "base_uri": "https://localhost:8080/"
        }
      },
      "source": [
        "dtr = DecisionTreeRegressor()\n",
        "dtr.fit(x, Y)\n",
        "y_pred = dtr.predict(x)\n",
        "print(f'Score R2: {np.round(r2_score(Y, y_pred),5)}')"
      ],
      "execution_count": 104,
      "outputs": [
        {
          "output_type": "stream",
          "text": [
            "Score R2: 0.70983\n"
          ],
          "name": "stdout"
        }
      ]
    },
    {
      "cell_type": "markdown",
      "metadata": {
        "id": "ZQyodeFnNr26"
      },
      "source": [
        "### Support Vector Machine Regressor"
      ]
    },
    {
      "cell_type": "code",
      "metadata": {
        "id": "1ot7j5IvNyHV",
        "outputId": "76242994-eb4a-43e9-aeea-3d7fc66e9d69",
        "colab": {
          "base_uri": "https://localhost:8080/"
        }
      },
      "source": [
        "svr = SVR(kernel='rbf')\n",
        "svr.fit(x, Y)\n",
        "y_pred = svr.predict(x)\n",
        "print(f'Score R2: {np.round(r2_score(Y, y_pred),5)}')"
      ],
      "execution_count": 105,
      "outputs": [
        {
          "output_type": "stream",
          "text": [
            "Score R2: 0.4018\n"
          ],
          "name": "stdout"
        }
      ]
    }
  ]
}